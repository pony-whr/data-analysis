{
 "cells": [
  {
   "cell_type": "markdown",
   "metadata": {
    "deletable": false,
    "editable": false,
    "nbgrader": {
     "checksum": "48770f8b5f5d3062d3badd51fcafc401",
     "grade": false,
     "grade_id": "cell-a6c4f74309fc2379",
     "locked": true,
     "schema_version": 1,
     "solution": false
    }
   },
   "source": [
    "# Assignment 4\n",
    "## Description\n",
    "In this assignment you must read in a file of metropolitan regions and associated sports teams from [assets/wikipedia_data.html](assets/wikipedia_data.html) and answer some questions about each metropolitan region. Each of these regions may have one or more teams from the \"Big 4\": NFL (football, in [assets/nfl.csv](assets/nfl.csv)), MLB (baseball, in [assets/mlb.csv](assets/mlb.csv)), NBA (basketball, in [assets/nba.csv](assets/nba.csv) or NHL (hockey, in [assets/nhl.csv](assets/nhl.csv)). Please keep in mind that all questions are from the perspective of the metropolitan region, and that this file is the \"source of authority\" for the location of a given sports team. Thus teams which are commonly known by a different area (e.g. \"Oakland Raiders\") need to be mapped into the metropolitan region given (e.g. San Francisco Bay Area). This will require some human data understanding outside of the data you've been given (e.g. you will have to hand-code some names, and might need to google to find out where teams are)!\n",
    "\n",
    "For each sport I would like you to answer the question: **what is the win/loss ratio's correlation with the population of the city it is in?** Win/Loss ratio refers to the number of wins over the number of wins plus the number of losses. Remember that to calculate the correlation with [`pearsonr`](https://docs.scipy.org/doc/scipy/reference/generated/scipy.stats.pearsonr.html), so you are going to send in two ordered lists of values, the populations from the wikipedia_data.html file and the win/loss ratio for a given sport in the same order. Average the win/loss ratios for those cities which have multiple teams of a single sport. Each sport is worth an equal amount in this assignment (20%\\*4=80%) of the grade for this assignment. You should only use data **from year 2018** for your analysis -- this is important!\n",
    "\n",
    "## Notes\n",
    "\n",
    "1. Do not include data about the MLS or CFL in any of the work you are doing, we're only interested in the Big 4 in this assignment.\n",
    "2. I highly suggest that you first tackle the four correlation questions in order, as they are all similar and worth the majority of grades for this assignment. This is by design!\n",
    "3. It's fair game to talk with peers about high level strategy as well as the relationship between metropolitan areas and sports teams. However, do not post code solving aspects of the assignment (including such as dictionaries mapping areas to teams, or regexes which will clean up names).\n",
    "4. There may be more teams than the assert statements test, remember to collapse multiple teams in one city into a single value!"
   ]
  },
  {
   "cell_type": "markdown",
   "metadata": {
    "deletable": false,
    "editable": false,
    "nbgrader": {
     "checksum": "369ff9ecf0ee04640574205cbc697f94",
     "grade": false,
     "grade_id": "cell-712b2b5da63d4505",
     "locked": true,
     "schema_version": 1,
     "solution": false
    }
   },
   "source": [
    "## Question 1\n",
    "For this question, calculate the win/loss ratio's correlation with the population of the city it is in for the **NHL** using **2018** data."
   ]
  },
  {
   "cell_type": "code",
   "execution_count": 38,
   "metadata": {
    "deletable": false,
    "nbgrader": {
     "checksum": "1cac4803b02502929f5b1612d48db2b5",
     "grade": false,
     "grade_id": "cell-69b16e4386e58030",
     "locked": false,
     "schema_version": 1,
     "solution": true
    }
   },
   "outputs": [
    {
     "data": {
      "text/plain": [
       "0.012486162921209909"
      ]
     },
     "execution_count": 38,
     "metadata": {},
     "output_type": "execute_result"
    }
   ],
   "source": [
    "import pandas as pd\n",
    "import numpy as np\n",
    "import scipy.stats as stats\n",
    "import re\n",
    "\n",
    "nhl_df=pd.read_csv(\"assets/nhl.csv\")\n",
    "cities=pd.read_html(\"assets/wikipedia_data.html\")[1]\n",
    "cities=cities.iloc[:-1,[0,3,5,6,7,8]]\n",
    "\n",
    "def nhl_correlation(): \n",
    "    nhl_df=pd.read_csv(\"assets/nhl.csv\")\n",
    "    nhl_df=nhl_df[~nhl_df['team'].str.contains('Division')]\n",
    "    nhl_df=nhl_df[nhl_df['year'] == 2018].dropna()\n",
    "    \n",
    "    nhl_df.loc[(nhl_df['team'] == 'New York Islanders'),'team']='RangersIslandersDevils' \n",
    "    nhl_df.loc[(nhl_df['team'] == 'New Jersey Devils*'),'team']='RangersIslandersDevils'\n",
    "    nhl_df.loc[(nhl_df['team'] == 'New York Rangers'),'team']='RangersIslandersDevils'\n",
    "    nhl_df.loc[(nhl_df['team'] == 'Anaheim Ducks*'),'team']='KingsDucks'\n",
    "    nhl_df.loc[(nhl_df['team'] == 'Los Angeles Kings*'),'team']='KingsDucks'\n",
    "    \n",
    "    \n",
    "    \n",
    "    cities_nhl=cities.copy()\n",
    "#     cities_nhl=cities_nhl.replace('(\\[\\.+])','')\n",
    "    cities_nhl = cities_nhl.replace(to_replace ='(\\[.*\\])', value = '', regex = True)\n",
    "\n",
    "    indexNames = cities_nhl[(cities_nhl['NHL']=='—') | (cities_nhl['NHL']=='')].index\n",
    "    cities_nhl.drop(indexNames,inplace =True)\n",
    "    win=[];loss=[];team=[];metro=[];pop=[]\n",
    "    for i,l,m in zip(nhl_df['team'],nhl_df['W'],nhl_df['L']):\n",
    "        for j,k,p in zip(cities_nhl['NHL'],cities_nhl['Metropolitan area'],cities_nhl['Population (2016 est.)[8]']):\n",
    "            if j in i:\n",
    "                win.append(l)\n",
    "                loss.append(m)\n",
    "                team.append(j)\n",
    "                metro.append(k)\n",
    "                pop.append(p)\n",
    "                \n",
    "    df = pd.DataFrame(columns = ['win','loss','metro','pop','team'])\n",
    "    df['team']=pd.Series(team)\n",
    "    df['win']=pd.Series(win).astype(int)\n",
    "    df['loss']=pd.Series(loss).astype(int)\n",
    "    df['metro']=pd.Series(metro)\n",
    "    df['pop']=pd.Series(pop).astype(int)\n",
    "    df['ratio']= df['win']/(df['win']+df['loss'])\n",
    "#     df = df.groupby('metro')\n",
    "    df_result = pd.DataFrame(df.groupby(['team']).mean())\n",
    "    df_result=df_result.reset_index()\n",
    "    \n",
    "    population_by_region =[i for i in df_result['pop']]\n",
    "    win_loss_by_region = [i for i in df_result['ratio']]\n",
    "#     corr = df_result['pop'].corr(df_result['ratio'],method = 'pearson')\n",
    "    assert len(population_by_region) == len(win_loss_by_region), \"Q1: Your lists must be the same length\"\n",
    "    assert len(population_by_region) == 28, \"Q1: There should be 28 teams being analysed for NHL\"\n",
    "    return stats.pearsonr(population_by_region, win_loss_by_region)[0]\n",
    "#     return corr\n",
    "nhl_correlation()\n",
    "#     raise NotImplementedError()\n",
    "    \n",
    "\n",
    "\n",
    "#     assert len(population_by_region) == len(win_loss_by_region), \"Q1: Your lists must be the same length\"\n",
    "#     assert len(population_by_region) == 28, \"Q1: There should be 28 teams being analysed for NHL\"\n",
    "    \n",
    "#     return stats.pearsonr(population_by_region, win_loss_by_region)"
   ]
  },
  {
   "cell_type": "code",
   "execution_count": null,
   "metadata": {
    "deletable": false,
    "editable": false,
    "nbgrader": {
     "checksum": "52a581df513c71153e105b93764cda4b",
     "grade": true,
     "grade_id": "cell-ebe0b2dfe1067e63",
     "locked": true,
     "points": 20,
     "schema_version": 1,
     "solution": false
    }
   },
   "outputs": [],
   "source": []
  },
  {
   "cell_type": "markdown",
   "metadata": {
    "deletable": false,
    "editable": false,
    "nbgrader": {
     "checksum": "988912cae4968d81473f46d783e79c16",
     "grade": false,
     "grade_id": "cell-cb964e690298b71d",
     "locked": true,
     "schema_version": 1,
     "solution": false
    }
   },
   "source": [
    "## Question 2\n",
    "For this question, calculate the win/loss ratio's correlation with the population of the city it is in for the **NBA** using **2018** data."
   ]
  },
  {
   "cell_type": "code",
   "execution_count": 40,
   "metadata": {
    "deletable": false,
    "nbgrader": {
     "checksum": "9394222aafc8ccab0a228098ba0d6010",
     "grade": false,
     "grade_id": "cell-5a5f21279e3d3572",
     "locked": false,
     "schema_version": 1,
     "solution": true
    }
   },
   "outputs": [
    {
     "data": {
      "text/plain": [
       "-0.17657160252844617"
      ]
     },
     "execution_count": 40,
     "metadata": {},
     "output_type": "execute_result"
    }
   ],
   "source": [
    "import pandas as pd\n",
    "import numpy as np\n",
    "import scipy.stats as stats\n",
    "import re\n",
    "\n",
    "nba_df=pd.read_csv(\"assets/nba.csv\")\n",
    "cities=pd.read_html(\"assets/wikipedia_data.html\")[1]\n",
    "cities=cities.iloc[:-1,[0,3,5,6,7,8]]\n",
    "\n",
    "def nba_correlation(): \n",
    "    # YOUR CODE HERE\n",
    "    #raise NotImplementedError()\n",
    "    nba_df=pd.read_csv(\"assets/nba.csv\")\n",
    "    nba_df=nba_df[~nba_df['team'].str.contains('Division')]\n",
    "    nba_df= nba_df[nba_df['year']==2018].dropna()\n",
    "    nba_df.loc[(nba_df['team'] == 'New York Knicks\\xa0(11)'),'team']='KnicksNets' \n",
    "    nba_df.loc[(nba_df['team'] == 'Brooklyn Nets\\xa0(12)'),'team']='KnicksNets' \n",
    "    nba_df.loc[(nba_df['team'] == 'Los Angeles Clippers\\xa0(10)'),'team']='LakersClippers' \n",
    "    nba_df.loc[(nba_df['team'] == 'Los Angeles Lakers\\xa0(11)'),'team']='LakersClippers' \n",
    "    \n",
    "    cities_nba=cities.copy()\n",
    "    cities_nba = cities_nba.replace(to_replace ='(\\[.*\\])', value = '', regex = True)\n",
    "    indexNames = cities_nba[(cities_nba['NBA']=='—') | (cities_nba['NBA']=='')].index\n",
    "    cities_nba.drop(indexNames, inplace=True)\n",
    "\n",
    "    win=[];loss=[];team=[];metro=[];pop=[]\n",
    "    for i,l,m in zip(nba_df['team'],nba_df['W'],nba_df['L']):\n",
    "        for j,k,p in zip(cities_nba['NBA'],cities_nba['Metropolitan area'],cities_nba['Population (2016 est.)[8]']):\n",
    "            if j in i:\n",
    "                win.append(l)\n",
    "                loss.append(m)\n",
    "                team.append(j)\n",
    "                metro.append(k)\n",
    "                pop.append(p)\n",
    "    df=pd.DataFrame(columns=['team', 'metro', 'win', 'loss', 'pop'])\n",
    "    df['win']= pd.Series(win)\n",
    "    df['loss']= pd.Series(loss)\n",
    "    df['team']= pd.Series(team)\n",
    "    df['metro']= pd.Series(metro)\n",
    "    df['pop']= pd.Series(pop)\n",
    "    \n",
    "    df['win']=df['win'].astype(int)\n",
    "    df['loss']=df['loss'].astype(int)\n",
    "    df['Ratio']= df['win']/(df['win']+df['loss'])\n",
    "    df['pop']=df['pop'].astype(int)\n",
    "    \n",
    "    df_result= pd.DataFrame(df.groupby(['team']).mean())\n",
    "    df_result=df_result.reset_index()\n",
    "    \n",
    "    population_by_region = [i for i in df_result['pop']] # pass in metropolitan area population from cities   \n",
    "    win_loss_by_region = [i for i in df_result['Ratio']] # pass in win/loss ratio from nhl_df in the same order as cities[\"Metropolitan area\"]\n",
    "\n",
    "    assert len(population_by_region) == len(win_loss_by_region), \"Q1: Your lists must be the same length\"  \n",
    "    assert len(population_by_region) == 28,   \"Q1: There should be 28 teams being analysed for NHL\"    \n",
    "    \n",
    "    return stats.pearsonr(population_by_region, win_loss_by_region)[0]\n",
    "nba_correlation()"
   ]
  },
  {
   "cell_type": "code",
   "execution_count": null,
   "metadata": {
    "deletable": false,
    "editable": false,
    "nbgrader": {
     "checksum": "bbdeb8eb22f525a34c10dc8798324e42",
     "grade": true,
     "grade_id": "cell-e573b2b4a282b470",
     "locked": true,
     "points": 20,
     "schema_version": 1,
     "solution": false
    }
   },
   "outputs": [],
   "source": []
  },
  {
   "cell_type": "markdown",
   "metadata": {
    "deletable": false,
    "editable": false,
    "nbgrader": {
     "checksum": "1a1a5809f675ca033086422007cd73bd",
     "grade": false,
     "grade_id": "cell-96e15e4335df78f4",
     "locked": true,
     "schema_version": 1,
     "solution": false
    }
   },
   "source": [
    "## Question 3\n",
    "For this question, calculate the win/loss ratio's correlation with the population of the city it is in for the **MLB** using **2018** data."
   ]
  },
  {
   "cell_type": "code",
   "execution_count": 42,
   "metadata": {
    "deletable": false,
    "nbgrader": {
     "checksum": "27e8c0da6c9fa0dffc10488314335b6c",
     "grade": false,
     "grade_id": "cell-33b00fc3f3467b0c",
     "locked": false,
     "schema_version": 1,
     "solution": true
    }
   },
   "outputs": [
    {
     "data": {
      "text/plain": [
       "0.1502769830266931"
      ]
     },
     "execution_count": 42,
     "metadata": {},
     "output_type": "execute_result"
    }
   ],
   "source": [
    "import pandas as pd\n",
    "import numpy as np\n",
    "import scipy.stats as stats\n",
    "import re\n",
    "\n",
    "mlb_df=pd.read_csv(\"assets/mlb.csv\")\n",
    "cities=pd.read_html(\"assets/wikipedia_data.html\")[1]\n",
    "cities=cities.iloc[:-1,[0,3,5,6,7,8]]\n",
    "\n",
    "def mlb_correlation(): \n",
    "    # YOUR CODE HERE\n",
    "    #raise NotImplementedError()\n",
    "    mlb_df=pd.read_csv(\"assets/mlb.csv\")\n",
    "    mlb_df=mlb_df[~mlb_df['team'].str.contains('Division')]\n",
    "    mlb_df= mlb_df[mlb_df['year']==2018].dropna()\n",
    "    mlb_df.loc[(mlb_df['team'] == 'Los Angeles Angels'),'team']='DodgersAngels'\n",
    "    mlb_df.loc[(mlb_df['team'] == 'Los Angeles Dodgers'),'team']='DodgersAngels'\n",
    "    mlb_df.loc[(mlb_df['team'] == 'New York Yankees'),'team']='YankeesMets'\n",
    "    mlb_df.loc[(mlb_df['team'] == 'New York Mets'),'team']='YankeesMets'\n",
    "    mlb_df.loc[(mlb_df['team'] == 'San Francisco Giants'),'team']='GiantsAthletics'\n",
    "    mlb_df.loc[(mlb_df['team'] == 'Oakland Athletics'),'team']='GiantsAthletics'  \n",
    "    mlb_df.loc[(mlb_df['team'] == 'Chicago White Sox'),'team']='CubsWhite Sox'\n",
    "    mlb_df.loc[(mlb_df['team'] == 'Chicago Cubs'),'team']='CubsWhite Sox' \n",
    "    \n",
    "    cities_mlb=cities.copy()\n",
    "    cities_mlb = cities_mlb.replace(to_replace ='(\\[.*\\])', value = '', regex = True)\n",
    "    indexNames = cities_mlb[(cities_mlb['MLB']=='—') | (cities_mlb['MLB']=='')].index\n",
    "    cities_mlb.drop(indexNames, inplace=True)\n",
    "\n",
    "    win=[];loss=[];team=[];metro=[];pop=[]\n",
    "    for i,l,m in zip(mlb_df['team'],mlb_df['W'],mlb_df['L']):\n",
    "        for j,k,p in zip(cities_mlb['MLB'],cities_mlb['Metropolitan area'],cities_mlb['Population (2016 est.)[8]']):\n",
    "            if j in i:\n",
    "                win.append(l)\n",
    "                loss.append(m)\n",
    "                team.append(j)\n",
    "                metro.append(k)\n",
    "                pop.append(p)\n",
    "    df=pd.DataFrame(columns=['team', 'metro', 'win', 'loss', 'pop'])\n",
    "    df['win']= pd.Series(win)\n",
    "    df['loss']= pd.Series(loss)\n",
    "    df['team']= pd.Series(team)\n",
    "    df['metro']= pd.Series(metro)\n",
    "    df['pop']= pd.Series(pop)\n",
    "    \n",
    "    df['win']=df['win'].astype(int)\n",
    "    df['loss']=df['loss'].astype(int)\n",
    "    df['Ratio']= df['win']/(df['win']+df['loss'])\n",
    "    df['pop']=df['pop'].astype(int)\n",
    "    \n",
    "    df_result= pd.DataFrame(df.groupby(['team']).mean())\n",
    "    df_result=df_result.reset_index()\n",
    "    \n",
    "    population_by_region = [i for i in df_result['pop']] # pass in metropolitan area population from cities   \n",
    "    win_loss_by_region = [i for i in df_result['Ratio']] # pass in win/loss ratio from nhl_df in the same order as cities[\"Metropolitan area\"]\n",
    "\n",
    "    assert len(population_by_region) == len(win_loss_by_region), \"Q1: Your lists must be the same length\"  \n",
    "    assert len(population_by_region) == 26,   \"Q1: There should be 28 teams being analysed for NHL\"    \n",
    "    \n",
    "    return stats.pearsonr(population_by_region, win_loss_by_region)[0]\n",
    "mlb_correlation()"
   ]
  },
  {
   "cell_type": "code",
   "execution_count": null,
   "metadata": {
    "deletable": false,
    "editable": false,
    "nbgrader": {
     "checksum": "cda33b094ba19ccc37a481e0dd29e0bc",
     "grade": true,
     "grade_id": "cell-764d4476f425c5a2",
     "locked": true,
     "points": 20,
     "schema_version": 1,
     "solution": false
    }
   },
   "outputs": [],
   "source": []
  },
  {
   "cell_type": "markdown",
   "metadata": {
    "deletable": false,
    "editable": false,
    "nbgrader": {
     "checksum": "6977a6da9ed6d8b7a0b7e37bbeda709b",
     "grade": false,
     "grade_id": "cell-793df6c04dfb126e",
     "locked": true,
     "schema_version": 1,
     "solution": false
    }
   },
   "source": [
    "## Question 4\n",
    "For this question, calculate the win/loss ratio's correlation with the population of the city it is in for the **NFL** using **2018** data."
   ]
  },
  {
   "cell_type": "code",
   "execution_count": 43,
   "metadata": {
    "deletable": false,
    "nbgrader": {
     "checksum": "c4914ad1e119278ec2bd567c52640b66",
     "grade": false,
     "grade_id": "cell-8ccebc209aeec8d9",
     "locked": false,
     "schema_version": 1,
     "solution": true
    }
   },
   "outputs": [
    {
     "data": {
      "text/plain": [
       "0.004922112149349429"
      ]
     },
     "execution_count": 43,
     "metadata": {},
     "output_type": "execute_result"
    }
   ],
   "source": [
    "import pandas as pd\n",
    "import numpy as np\n",
    "import scipy.stats as stats\n",
    "import re\n",
    "\n",
    "nfl_df=pd.read_csv(\"assets/nfl.csv\")\n",
    "cities= pd.read_html(\"assets/wikipedia_data.html\")[1]\n",
    "cities= cities.iloc[:-1,[0,3,5,6,7,8]]\n",
    "\n",
    "def nfl_correlation(): \n",
    "    # YOUR CODE HERE\n",
    "    #raise NotImplementedError()\n",
    "    nfl_df=pd.read_csv(\"assets/nfl.csv\")\n",
    "    nfl_df=nfl_df[~nfl_df['team'].str.contains('AFC') & ~nfl_df['team'].str.contains('NFC')]\n",
    "    nfl_df= nfl_df[nfl_df['year']==2018].dropna()\n",
    "    nfl_df.loc[(nfl_df['team'] == 'New York Giants'),'team']='GiantsJets'\n",
    "    nfl_df.loc[(nfl_df['team'] == 'New York Jets'),'team']='GiantsJets'\n",
    "    nfl_df.loc[(nfl_df['team'] == 'Los Angeles Rams*'),'team']='RamsChargers'\n",
    "    nfl_df.loc[(nfl_df['team'] == 'Los Angeles Chargers+'),'team']='RamsChargers'\n",
    "    nfl_df.loc[(nfl_df['team'] == 'San Francisco 49ers'),'team']='49ersRaiders'\n",
    "    nfl_df.loc[(nfl_df['team'] == 'Oakland Raiders'),'team']='49ersRaiders' \n",
    "    \n",
    "    cities_nfl=cities.copy()\n",
    "    cities_nfl = cities_nfl.replace(to_replace ='(\\[.*\\])', value = '', regex = True)\n",
    "    indexNames = cities_nfl[(cities_nfl['NFL']=='—') | (cities_nfl['NFL']=='') | (cities_nfl['NFL']=='— ')].index\n",
    "    cities_nfl.drop(indexNames, inplace=True)\n",
    "\n",
    "    win=[];loss=[];team=[];metro=[];pop=[]\n",
    "    for i,l,m in zip(nfl_df['team'],nfl_df['W'],nfl_df['L']):\n",
    "        for j,k,p in zip(cities_nfl['NFL'],cities_nfl['Metropolitan area'],cities_nfl['Population (2016 est.)[8]']):\n",
    "            if j in i:\n",
    "                win.append(l)\n",
    "                loss.append(m)\n",
    "                team.append(j)\n",
    "                metro.append(k)\n",
    "                pop.append(p)\n",
    "    df=pd.DataFrame(columns=['team', 'metro', 'win', 'loss', 'pop'])\n",
    "    df['win']= pd.Series(win)\n",
    "    df['loss']= pd.Series(loss)\n",
    "    df['team']= pd.Series(team)\n",
    "    df['metro']= pd.Series(metro)\n",
    "    df['pop']= pd.Series(pop)\n",
    "    \n",
    "    df['win']=df['win'].astype(int)\n",
    "    df['loss']=df['loss'].astype(int)\n",
    "    df['Ratio']= df['win']/(df['win']+df['loss'])\n",
    "    df['pop']=df['pop'].astype(int)\n",
    "    \n",
    "    df_result= pd.DataFrame(df.groupby(['team']).mean())\n",
    "    df_result=df_result.reset_index()\n",
    "    \n",
    "    population_by_region = [i for i in df_result['pop']] # pass in metropolitan area population from cities   \n",
    "    win_loss_by_region = [i for i in df_result['Ratio']] # pass in win/loss ratio from nhl_df in the same order as cities[\"Metropolitan area\"]\n",
    "\n",
    "    assert len(population_by_region) == len(win_loss_by_region), \"Q1: Your lists must be the same length\"  \n",
    "    assert len(population_by_region) == 29,   \"Q1: There should be 28 teams being analysed for NHL\"    \n",
    "    \n",
    "    return stats.pearsonr(population_by_region, win_loss_by_region)[0]\n",
    "nfl_correlation()"
   ]
  },
  {
   "cell_type": "code",
   "execution_count": null,
   "metadata": {
    "deletable": false,
    "editable": false,
    "nbgrader": {
     "checksum": "e9415d6399aa49e3a1a60813afdefa3b",
     "grade": true,
     "grade_id": "cell-de7b148b9554dbda",
     "locked": true,
     "points": 20,
     "schema_version": 1,
     "solution": false
    }
   },
   "outputs": [],
   "source": []
  },
  {
   "cell_type": "markdown",
   "metadata": {
    "deletable": false,
    "editable": false,
    "nbgrader": {
     "checksum": "b02d5cd3273f561e4ae939bb2a41740c",
     "grade": false,
     "grade_id": "cell-97b49d8639e908c4",
     "locked": true,
     "schema_version": 1,
     "solution": false
    }
   },
   "source": [
    "## Question 5\n",
    "In this question I would like you to explore the hypothesis that **given that an area has two sports teams in different sports, those teams will perform the same within their respective sports**. How I would like to see this explored is with a series of paired t-tests (so use [`ttest_rel`](https://docs.scipy.org/doc/scipy/reference/generated/scipy.stats.ttest_rel.html)) between all pairs of sports. Are there any sports where we can reject the null hypothesis? Again, average values where a sport has multiple teams in one region. Remember, you will only be including, for each sport, cities which have teams engaged in that sport, drop others as appropriate. This question is worth 20% of the grade for this assignment."
   ]
  },
  {
   "cell_type": "code",
   "execution_count": 53,
   "metadata": {
    "deletable": false,
    "nbgrader": {
     "checksum": "6d78c961eb66f8d8c81f06d33ae8f393",
     "grade": false,
     "grade_id": "cell-92f25f44b8d1179f",
     "locked": false,
     "schema_version": 1,
     "solution": true
    }
   },
   "outputs": [
    {
     "data": {
      "text/html": [
       "<div>\n",
       "<style scoped>\n",
       "    .dataframe tbody tr th:only-of-type {\n",
       "        vertical-align: middle;\n",
       "    }\n",
       "\n",
       "    .dataframe tbody tr th {\n",
       "        vertical-align: top;\n",
       "    }\n",
       "\n",
       "    .dataframe thead th {\n",
       "        text-align: right;\n",
       "    }\n",
       "</style>\n",
       "<table border=\"1\" class=\"dataframe\">\n",
       "  <thead>\n",
       "    <tr style=\"text-align: right;\">\n",
       "      <th></th>\n",
       "      <th>NFL</th>\n",
       "      <th>NBA</th>\n",
       "      <th>NHL</th>\n",
       "      <th>MLB</th>\n",
       "    </tr>\n",
       "  </thead>\n",
       "  <tbody>\n",
       "    <tr>\n",
       "      <th>NFL</th>\n",
       "      <td>NaN</td>\n",
       "      <td>NaN</td>\n",
       "      <td>NaN</td>\n",
       "      <td>NaN</td>\n",
       "    </tr>\n",
       "    <tr>\n",
       "      <th>NBA</th>\n",
       "      <td>NaN</td>\n",
       "      <td>NaN</td>\n",
       "      <td>NaN</td>\n",
       "      <td>NaN</td>\n",
       "    </tr>\n",
       "    <tr>\n",
       "      <th>NHL</th>\n",
       "      <td>NaN</td>\n",
       "      <td>NaN</td>\n",
       "      <td>NaN</td>\n",
       "      <td>NaN</td>\n",
       "    </tr>\n",
       "    <tr>\n",
       "      <th>MLB</th>\n",
       "      <td>NaN</td>\n",
       "      <td>NaN</td>\n",
       "      <td>NaN</td>\n",
       "      <td>NaN</td>\n",
       "    </tr>\n",
       "  </tbody>\n",
       "</table>\n",
       "</div>"
      ],
      "text/plain": [
       "     NFL  NBA  NHL  MLB\n",
       "NFL  NaN  NaN  NaN  NaN\n",
       "NBA  NaN  NaN  NaN  NaN\n",
       "NHL  NaN  NaN  NaN  NaN\n",
       "MLB  NaN  NaN  NaN  NaN"
      ]
     },
     "execution_count": 53,
     "metadata": {},
     "output_type": "execute_result"
    }
   ],
   "source": [
    "import pandas as pd\n",
    "import numpy as np\n",
    "import scipy.stats as stats\n",
    "import re\n",
    "\n",
    "mlb_df=pd.read_csv(\"assets/mlb.csv\")\n",
    "nhl_df=pd.read_csv(\"assets/nhl.csv\")\n",
    "nba_df=pd.read_csv(\"assets/nba.csv\")\n",
    "nfl_df=pd.read_csv(\"assets/nfl.csv\")\n",
    "cities=pd.read_html(\"assets/wikipedia_data.html\")[1]\n",
    "cities=cities.iloc[:-1,[0,3,5,6,7,8]]\n",
    "\n",
    "def sports_team_performance():\n",
    "    # YOUR CODE HERE\n",
    "\n",
    "    \n",
    "    # Note: p_values is a full dataframe, so df.loc[\"NFL\",\"NBA\"] should be the same as df.loc[\"NBA\",\"NFL\"] and\n",
    "    # df.loc[\"NFL\",\"NFL\"] should return np.nan\n",
    "    sports = ['NFL', 'NBA', 'NHL', 'MLB']\n",
    "    p_values = pd.DataFrame({k:np.nan for k in sports}, index=sports)\n",
    "    \n",
    "#     assert abs(p_values.loc[\"NBA\", \"NHL\"] - 0.02) <= 1e-2, \"The NBA-NHL p-value should be around 0.02\"\n",
    "#     assert abs(p_values.loc[\"MLB\", \"NFL\"] - 0.80) <= 1e-2, \"The MLB-NFL p-value should be around 0.80\"\n",
    "    return p_values\n",
    "sports_team_performance()"
   ]
  },
  {
   "cell_type": "code",
   "execution_count": null,
   "metadata": {
    "deletable": false,
    "editable": false,
    "nbgrader": {
     "checksum": "2a596ab421a45cc01168d10e8fbb8f89",
     "grade": true,
     "grade_id": "cell-fb4b9cb5ff4570a6",
     "locked": true,
     "points": 20,
     "schema_version": 1,
     "solution": false
    }
   },
   "outputs": [],
   "source": []
  }
 ],
 "metadata": {
  "coursera": {
   "schema_names": [
    "mooc_adswpy_1_v2_assignment4"
   ]
  },
  "kernelspec": {
   "display_name": "Python 3",
   "language": "python",
   "name": "python3"
  },
  "language_info": {
   "codemirror_mode": {
    "name": "ipython",
    "version": 3
   },
   "file_extension": ".py",
   "mimetype": "text/x-python",
   "name": "python",
   "nbconvert_exporter": "python",
   "pygments_lexer": "ipython3",
   "version": "3.7.3"
  }
 },
 "nbformat": 4,
 "nbformat_minor": 4
}
